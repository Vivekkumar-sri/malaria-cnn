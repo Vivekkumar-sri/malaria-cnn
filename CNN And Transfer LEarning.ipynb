{
 "cells": [
  {
   "cell_type": "markdown",
   "metadata": {},
   "source": [
    "## Creating CNN Using Scratch And Transfer Learning"
   ]
  },
  {
   "cell_type": "code",
   "execution_count": 1,
   "metadata": {},
   "outputs": [],
   "source": [
    "# pip install matplotlib\n"
   ]
  },
  {
   "cell_type": "code",
   "execution_count": 2,
   "metadata": {},
   "outputs": [],
   "source": [
    "# import the libraries as shown below\n",
    "import tensorflow as tf\n",
    "from tensorflow.keras.layers import Input, Lambda, Dense, Flatten,Conv2D\n",
    "from tensorflow.keras.models import Model\n",
    "from tensorflow.keras.applications.vgg19 import VGG19\n",
    "from tensorflow.keras.preprocessing import image\n",
    "from tensorflow.keras.preprocessing.image import ImageDataGenerator,load_img\n",
    "from tensorflow.keras.models import Sequential\n",
    "import numpy as np\n",
    "from glob import glob\n",
    "from PIL import Image\n",
    "import scipy\n",
    "import matplotlib.pyplot as plt\n"
   ]
  },
  {
   "cell_type": "code",
   "execution_count": 3,
   "metadata": {},
   "outputs": [],
   "source": [
    "# re-size all the images to this\n",
    "IMAGE_SIZE = [224, 224]\n",
    "\n",
    "train_path = 'cell_image/Train'\n",
    "valid_path = 'cell_image/Test'\n"
   ]
  },
  {
   "cell_type": "code",
   "execution_count": 4,
   "metadata": {},
   "outputs": [],
   "source": [
    "# Import the Vgg 19 library as shown below and add preprocessing layer to the front of VGG\n",
    "# Here we will be using imagenet weights\n",
    "\n",
    "vgg19 = VGG19(input_shape=IMAGE_SIZE + [3], weights='imagenet', include_top=False)\n",
    "\n",
    "\n"
   ]
  },
  {
   "cell_type": "code",
   "execution_count": 5,
   "metadata": {},
   "outputs": [],
   "source": [
    "# don't train existing weights\n",
    "for layer in vgg19.layers:\n",
    "    layer.trainable = False"
   ]
  },
  {
   "cell_type": "code",
   "execution_count": 6,
   "metadata": {},
   "outputs": [],
   "source": [
    "  # useful for getting number of output classes\n",
    "folders = glob('cell_image/Train/*')"
   ]
  },
  {
   "cell_type": "code",
   "execution_count": 7,
   "metadata": {},
   "outputs": [
    {
     "data": {
      "text/plain": [
       "['cell_image/Train\\\\Parasitized', 'cell_image/Train\\\\Uninfected']"
      ]
     },
     "execution_count": 7,
     "metadata": {},
     "output_type": "execute_result"
    }
   ],
   "source": [
    "folders"
   ]
  },
  {
   "cell_type": "code",
   "execution_count": 8,
   "metadata": {},
   "outputs": [],
   "source": [
    "# our layers - you can add more if you want\n",
    "x = Flatten()(vgg19.output)"
   ]
  },
  {
   "cell_type": "code",
   "execution_count": 9,
   "metadata": {},
   "outputs": [],
   "source": [
    "prediction = Dense(len(folders), activation='softmax')(x)\n",
    "\n",
    "# create a model object\n",
    "model = Model(inputs=vgg19.input, outputs=prediction)"
   ]
  },
  {
   "cell_type": "code",
   "execution_count": 10,
   "metadata": {},
   "outputs": [
    {
     "name": "stdout",
     "output_type": "stream",
     "text": [
      "Model: \"model\"\n",
      "_________________________________________________________________\n",
      " Layer (type)                Output Shape              Param #   \n",
      "=================================================================\n",
      " input_1 (InputLayer)        [(None, 224, 224, 3)]     0         \n",
      "                                                                 \n",
      " block1_conv1 (Conv2D)       (None, 224, 224, 64)      1792      \n",
      "                                                                 \n",
      " block1_conv2 (Conv2D)       (None, 224, 224, 64)      36928     \n",
      "                                                                 \n",
      " block1_pool (MaxPooling2D)  (None, 112, 112, 64)      0         \n",
      "                                                                 \n",
      " block2_conv1 (Conv2D)       (None, 112, 112, 128)     73856     \n",
      "                                                                 \n",
      " block2_conv2 (Conv2D)       (None, 112, 112, 128)     147584    \n",
      "                                                                 \n",
      " block2_pool (MaxPooling2D)  (None, 56, 56, 128)       0         \n",
      "                                                                 \n",
      " block3_conv1 (Conv2D)       (None, 56, 56, 256)       295168    \n",
      "                                                                 \n",
      " block3_conv2 (Conv2D)       (None, 56, 56, 256)       590080    \n",
      "                                                                 \n",
      " block3_conv3 (Conv2D)       (None, 56, 56, 256)       590080    \n",
      "                                                                 \n",
      " block3_conv4 (Conv2D)       (None, 56, 56, 256)       590080    \n",
      "                                                                 \n",
      " block3_pool (MaxPooling2D)  (None, 28, 28, 256)       0         \n",
      "                                                                 \n",
      " block4_conv1 (Conv2D)       (None, 28, 28, 512)       1180160   \n",
      "                                                                 \n",
      " block4_conv2 (Conv2D)       (None, 28, 28, 512)       2359808   \n",
      "                                                                 \n",
      " block4_conv3 (Conv2D)       (None, 28, 28, 512)       2359808   \n",
      "                                                                 \n",
      " block4_conv4 (Conv2D)       (None, 28, 28, 512)       2359808   \n",
      "                                                                 \n",
      " block4_pool (MaxPooling2D)  (None, 14, 14, 512)       0         \n",
      "                                                                 \n",
      " block5_conv1 (Conv2D)       (None, 14, 14, 512)       2359808   \n",
      "                                                                 \n",
      " block5_conv2 (Conv2D)       (None, 14, 14, 512)       2359808   \n",
      "                                                                 \n",
      " block5_conv3 (Conv2D)       (None, 14, 14, 512)       2359808   \n",
      "                                                                 \n",
      " block5_conv4 (Conv2D)       (None, 14, 14, 512)       2359808   \n",
      "                                                                 \n",
      " block5_pool (MaxPooling2D)  (None, 7, 7, 512)         0         \n",
      "                                                                 \n",
      " flatten (Flatten)           (None, 25088)             0         \n",
      "                                                                 \n",
      " dense (Dense)               (None, 2)                 50178     \n",
      "                                                                 \n",
      "=================================================================\n",
      "Total params: 20,074,562\n",
      "Trainable params: 50,178\n",
      "Non-trainable params: 20,024,384\n",
      "_________________________________________________________________\n"
     ]
    }
   ],
   "source": [
    "\n",
    "# view the structure of the model\n",
    "model.summary()\n"
   ]
  },
  {
   "cell_type": "code",
   "execution_count": 11,
   "metadata": {},
   "outputs": [],
   "source": [
    "from tensorflow.keras.layers import MaxPooling2D\n",
    "\n"
   ]
  },
  {
   "cell_type": "code",
   "execution_count": 12,
   "metadata": {},
   "outputs": [
    {
     "name": "stdout",
     "output_type": "stream",
     "text": [
      "Model: \"sequential\"\n",
      "_________________________________________________________________\n",
      " Layer (type)                Output Shape              Param #   \n",
      "=================================================================\n",
      " conv2d (Conv2D)             (None, 224, 224, 16)      208       \n",
      "                                                                 \n",
      " max_pooling2d (MaxPooling2D  (None, 112, 112, 16)     0         \n",
      " )                                                               \n",
      "                                                                 \n",
      " conv2d_1 (Conv2D)           (None, 112, 112, 32)      2080      \n",
      "                                                                 \n",
      " max_pooling2d_1 (MaxPooling  (None, 56, 56, 32)       0         \n",
      " 2D)                                                             \n",
      "                                                                 \n",
      " conv2d_2 (Conv2D)           (None, 56, 56, 64)        8256      \n",
      "                                                                 \n",
      " max_pooling2d_2 (MaxPooling  (None, 28, 28, 64)       0         \n",
      " 2D)                                                             \n",
      "                                                                 \n",
      " flatten_1 (Flatten)         (None, 50176)             0         \n",
      "                                                                 \n",
      " dense_1 (Dense)             (None, 500)               25088500  \n",
      "                                                                 \n",
      " dense_2 (Dense)             (None, 2)                 1002      \n",
      "                                                                 \n",
      "=================================================================\n",
      "Total params: 25,100,046\n",
      "Trainable params: 25,100,046\n",
      "Non-trainable params: 0\n",
      "_________________________________________________________________\n"
     ]
    }
   ],
   "source": [
    "### Create Model from scratch using CN\n",
    "\n",
    "input_shape = (224, 224, 3) \n",
    "# Create a Sequential model\n",
    "model = Sequential()\n",
    "# Add the Input layer with the specified input shape\n",
    "model.add(Input(shape=input_shape))\n",
    "\n",
    "model.add(Conv2D(filters=16,kernel_size=2,padding=\"same\",activation=\"relu\"))\n",
    "model.add(MaxPooling2D(pool_size=2))\n",
    "model.add(Conv2D(filters=32,kernel_size=2,padding=\"same\",activation =\"relu\"))\n",
    "model.add(MaxPooling2D(pool_size=2))\n",
    "model.add(Conv2D(filters=64,kernel_size=2,padding=\"same\",activation=\"relu\"))\n",
    "model.add(MaxPooling2D(pool_size=2))\n",
    "model.add(Flatten())\n",
    "model.add(Dense(500,activation=\"relu\"))\n",
    "model.add(Dense(2,activation=\"softmax\"))\n",
    "model.summary()"
   ]
  },
  {
   "cell_type": "code",
   "execution_count": 13,
   "metadata": {},
   "outputs": [],
   "source": [
    "# model = Sequential()\n",
    "# #The rectified linear unit (ReLU) or rectifier activation function introduces the property of nonlinearity to a deep learning model \n",
    "# # and solves the vanishing gradients issue.\n",
    "# # Step 1 - Convolution\n",
    "# model.add(Conv2D(32, (3, 3), input_shape = (224, 224, 3), activation = 'relu'))\n",
    "\n",
    "# # Step 2 - Pooling\n",
    "# model.add(MaxPooling2D(pool_size = (2, 2)))\n",
    "\n",
    "# # Adding a second convolutional layer\n",
    "# model.add(Conv2D(32, (3, 3), activation = 'relu'))\n",
    "# model.add(MaxPooling2D(pool_size = (2, 2)))\n",
    "# #adding 3rd layer\n",
    "# model.add(Conv2D(32, (3, 3), activation = 'relu'))\n",
    "# model.add(MaxPooling2D(pool_size = (2, 2)))\n",
    "\n",
    "# # Step 3 - Flattening\n",
    "# model.add(Flatten())\n",
    "\n",
    "# # Step 4 - Full connection\n",
    "# model.add(Dense(units = 128, activation = 'relu'))\n",
    "# model.add(Dense(units = 1, activation = 'sigmoid'))"
   ]
  },
  {
   "cell_type": "code",
   "execution_count": 14,
   "metadata": {},
   "outputs": [],
   "source": [
    "# # from keras.models import Sequential\n",
    "# # from keras.layers import Dense, Conv2D, MaxPooling2D, Flatten, Input\n",
    "# from keras.layers import  MaxPooling2D\n",
    "\n",
    "# # Define the input shape\n",
    "# input_shape = (224, 224, 3)  # Assuming RGB images with dimensions 224x224\n",
    "\n",
    "# # Create a Sequential model\n",
    "# model = Sequential()\n",
    "\n",
    "# # Add the Input layer with the specified input shape\n",
    "# model.add(Input(shape=input_shape))\n",
    "\n",
    "# # Step 1 - Convolution\n",
    "# model.add(Conv2D(32, (3, 3), activation='relu'))\n",
    "\n",
    "# # Step 2 - Pooling\n",
    "# model.add(MaxPooling2D(pool_size=(2, 2)))\n",
    "\n",
    "# # Adding a second convolutional layer\n",
    "# model.add(Conv2D(32, (3, 3), activation='relu'))\n",
    "# model.add(MaxPooling2D(pool_size=(2, 2)))\n",
    "\n",
    "# # Adding a third convolutional layer\n",
    "# model.add(Conv2D(32, (3, 3), activation='relu'))\n",
    "# model.add(MaxPooling2D(pool_size=(2, 2)))\n",
    "\n",
    "# # Step 3 - Flattening\n",
    "# model.add(Flatten())\n",
    "\n",
    "# # Step 4 - Full connection\n",
    "# model.add(Dense(units=128, activation='relu'))\n",
    "# model.add(Dense(units=1, activation='softmax'))\n",
    "\n",
    "# # Compile the model\n",
    "# # model.compile(optimizer='adam', loss='binary_crossentropy', metrics=['accuracy'])\n",
    "\n",
    "# # Now you can fit your model with training data and perform other tasks\n"
   ]
  },
  {
   "cell_type": "code",
   "execution_count": 15,
   "metadata": {},
   "outputs": [],
   "source": [
    "# tell the model what cost and optimization method to use\n",
    "model.compile(\n",
    "  loss='categorical_crossentropy',\n",
    "  optimizer='adam',\n",
    "  metrics=['accuracy']\n",
    ")\n"
   ]
  },
  {
   "cell_type": "code",
   "execution_count": 16,
   "metadata": {},
   "outputs": [],
   "source": [
    "# Use the Image Data Generator to import the images from the dataset\n",
    "# from tensorflow.keras.preprocessing.image import ImageDataGenerator\n",
    "\n",
    "train_datagen = ImageDataGenerator(rescale = 1./255,\n",
    "                                   shear_range = 0.2,\n",
    "                                   zoom_range = 0.2,\n",
    "                                   horizontal_flip = True)\n",
    "\n",
    "test_datagen = ImageDataGenerator(rescale = 1./255)"
   ]
  },
  {
   "cell_type": "code",
   "execution_count": 17,
   "metadata": {},
   "outputs": [
    {
     "name": "stdout",
     "output_type": "stream",
     "text": [
      "Found 22046 images belonging to 2 classes.\n"
     ]
    }
   ],
   "source": [
    "# Make sure you provide the same target size as initialied for the image size\n",
    "training_set = train_datagen.flow_from_directory('cell_image/Train',\n",
    "                                                 target_size = (224, 224),\n",
    "                                                 batch_size = 32,\n",
    "                                                 class_mode = 'categorical')"
   ]
  },
  {
   "cell_type": "code",
   "execution_count": 18,
   "metadata": {},
   "outputs": [
    {
     "data": {
      "text/plain": [
       "<keras.preprocessing.image.DirectoryIterator at 0x114cca7fd90>"
      ]
     },
     "execution_count": 18,
     "metadata": {},
     "output_type": "execute_result"
    }
   ],
   "source": [
    "training_set"
   ]
  },
  {
   "cell_type": "code",
   "execution_count": 19,
   "metadata": {},
   "outputs": [
    {
     "name": "stdout",
     "output_type": "stream",
     "text": [
      "Found 5512 images belonging to 2 classes.\n"
     ]
    }
   ],
   "source": [
    "test_set = test_datagen.flow_from_directory('cell_image/Test',\n",
    "                                            target_size = (224, 224),\n",
    "                                            batch_size = 32,\n",
    "                                            class_mode = 'categorical')"
   ]
  },
  {
   "cell_type": "code",
   "execution_count": 20,
   "metadata": {},
   "outputs": [],
   "source": []
  },
  {
   "cell_type": "code",
   "execution_count": 21,
   "metadata": {},
   "outputs": [
    {
     "name": "stdout",
     "output_type": "stream",
     "text": [
      "Epoch 1/32\n",
      "689/689 [==============================] - 184s 259ms/step - loss: 0.3328 - accuracy: 0.8709 - val_loss: 0.1974 - val_accuracy: 0.9385\n",
      "Epoch 2/32\n",
      "689/689 [==============================] - 163s 237ms/step - loss: 0.2001 - accuracy: 0.9397 - val_loss: 0.1761 - val_accuracy: 0.9452\n",
      "Epoch 3/32\n",
      "689/689 [==============================] - 164s 238ms/step - loss: 0.1796 - accuracy: 0.9467 - val_loss: 0.2105 - val_accuracy: 0.9443\n",
      "Epoch 4/32\n",
      "689/689 [==============================] - 171s 248ms/step - loss: 0.1626 - accuracy: 0.9501 - val_loss: 0.1524 - val_accuracy: 0.9523\n",
      "Epoch 5/32\n",
      "689/689 [==============================] - 167s 242ms/step - loss: 0.1579 - accuracy: 0.9516 - val_loss: 0.1927 - val_accuracy: 0.9436\n",
      "Epoch 6/32\n",
      "689/689 [==============================] - 166s 241ms/step - loss: 0.1459 - accuracy: 0.9542 - val_loss: 0.1475 - val_accuracy: 0.9548\n",
      "Epoch 7/32\n",
      "689/689 [==============================] - 165s 240ms/step - loss: 0.1406 - accuracy: 0.9551 - val_loss: 0.1508 - val_accuracy: 0.9570\n",
      "Epoch 8/32\n",
      "689/689 [==============================] - 166s 241ms/step - loss: 0.1393 - accuracy: 0.9563 - val_loss: 0.1336 - val_accuracy: 0.9586\n",
      "Epoch 9/32\n",
      "689/689 [==============================] - 166s 241ms/step - loss: 0.1335 - accuracy: 0.9573 - val_loss: 0.1548 - val_accuracy: 0.9517\n",
      "Epoch 10/32\n",
      "689/689 [==============================] - 165s 239ms/step - loss: 0.1325 - accuracy: 0.9566 - val_loss: 0.1429 - val_accuracy: 0.9588\n",
      "Epoch 11/32\n",
      "689/689 [==============================] - 165s 240ms/step - loss: 0.1302 - accuracy: 0.9574 - val_loss: 0.1406 - val_accuracy: 0.9534\n",
      "Epoch 12/32\n",
      "689/689 [==============================] - 164s 238ms/step - loss: 0.1274 - accuracy: 0.9585 - val_loss: 0.1450 - val_accuracy: 0.9557\n",
      "Epoch 13/32\n",
      "689/689 [==============================] - 163s 236ms/step - loss: 0.1230 - accuracy: 0.9597 - val_loss: 0.1305 - val_accuracy: 0.9603\n",
      "Epoch 14/32\n",
      "689/689 [==============================] - 165s 239ms/step - loss: 0.1226 - accuracy: 0.9600 - val_loss: 0.1266 - val_accuracy: 0.9601\n",
      "Epoch 15/32\n",
      "689/689 [==============================] - 164s 237ms/step - loss: 0.1195 - accuracy: 0.9610 - val_loss: 0.1438 - val_accuracy: 0.9563\n",
      "Epoch 16/32\n",
      "689/689 [==============================] - 165s 239ms/step - loss: 0.1151 - accuracy: 0.9597 - val_loss: 0.1316 - val_accuracy: 0.9575\n",
      "Epoch 17/32\n",
      "689/689 [==============================] - 166s 241ms/step - loss: 0.1149 - accuracy: 0.9605 - val_loss: 0.1333 - val_accuracy: 0.9597\n",
      "Epoch 18/32\n",
      "689/689 [==============================] - 163s 237ms/step - loss: 0.1131 - accuracy: 0.9632 - val_loss: 0.1434 - val_accuracy: 0.9608\n",
      "Epoch 19/32\n",
      "689/689 [==============================] - 165s 240ms/step - loss: 0.1114 - accuracy: 0.9625 - val_loss: 0.1364 - val_accuracy: 0.9595\n",
      "Epoch 20/32\n",
      "689/689 [==============================] - 165s 240ms/step - loss: 0.1072 - accuracy: 0.9645 - val_loss: 0.1368 - val_accuracy: 0.9574\n",
      "Epoch 21/32\n",
      "689/689 [==============================] - 163s 237ms/step - loss: 0.1059 - accuracy: 0.9639 - val_loss: 0.1401 - val_accuracy: 0.9595\n",
      "Epoch 22/32\n",
      "689/689 [==============================] - 165s 239ms/step - loss: 0.1058 - accuracy: 0.9644 - val_loss: 0.1325 - val_accuracy: 0.9581\n",
      "Epoch 23/32\n",
      "689/689 [==============================] - 164s 237ms/step - loss: 0.1057 - accuracy: 0.9651 - val_loss: 0.1266 - val_accuracy: 0.9614\n",
      "Epoch 24/32\n",
      "689/689 [==============================] - 164s 238ms/step - loss: 0.1018 - accuracy: 0.9653 - val_loss: 0.1500 - val_accuracy: 0.9574\n",
      "Epoch 25/32\n",
      "689/689 [==============================] - 163s 237ms/step - loss: 0.1031 - accuracy: 0.9660 - val_loss: 0.1321 - val_accuracy: 0.9574\n",
      "Epoch 26/32\n",
      "689/689 [==============================] - 163s 237ms/step - loss: 0.1007 - accuracy: 0.9665 - val_loss: 0.1352 - val_accuracy: 0.9594\n",
      "Epoch 27/32\n",
      "689/689 [==============================] - 164s 238ms/step - loss: 0.0977 - accuracy: 0.9675 - val_loss: 0.1368 - val_accuracy: 0.9612\n",
      "Epoch 28/32\n",
      "689/689 [==============================] - 164s 238ms/step - loss: 0.0948 - accuracy: 0.9669 - val_loss: 0.1458 - val_accuracy: 0.9575\n",
      "Epoch 29/32\n",
      "689/689 [==============================] - 162s 236ms/step - loss: 0.0974 - accuracy: 0.9671 - val_loss: 0.1600 - val_accuracy: 0.9556\n",
      "Epoch 30/32\n",
      "689/689 [==============================] - 163s 236ms/step - loss: 0.0931 - accuracy: 0.9679 - val_loss: 0.1496 - val_accuracy: 0.9585\n",
      "Epoch 31/32\n",
      "689/689 [==============================] - 164s 238ms/step - loss: 0.0951 - accuracy: 0.9677 - val_loss: 0.1522 - val_accuracy: 0.9565\n",
      "Epoch 32/32\n",
      "689/689 [==============================] - 163s 236ms/step - loss: 0.0920 - accuracy: 0.9687 - val_loss: 0.1377 - val_accuracy: 0.9628\n"
     ]
    }
   ],
   "source": [
    "\n",
    "r=model.fit(training_set,\n",
    "            epochs = 32,\n",
    "            validation_data = test_set,\n",
    "            steps_per_epoch = len(training_set),\n",
    "            validation_steps = len(test_set))"
   ]
  },
  {
   "cell_type": "code",
   "execution_count": null,
   "metadata": {},
   "outputs": [],
   "source": []
  },
  {
   "cell_type": "code",
   "execution_count": 22,
   "metadata": {},
   "outputs": [
    {
     "data": {
      "image/png": "[encoded data removed]",
      "text/plain": [
       "<Figure size 640x480 with 1 Axes>"
      ]
     },
     "metadata": {},
     "output_type": "display_data"
    },
    {
     "data": {
      "image/png": "[encoded data removed]",
      "text/plain": [
       "<Figure size 640x480 with 1 Axes>"
      ]
     },
     "metadata": {},
     "output_type": "display_data"
    },
    {
     "data": {
      "text/plain": [
       "<Figure size 640x480 with 0 Axes>"
      ]
     },
     "metadata": {},
     "output_type": "display_data"
    }
   ],
   "source": [
    "# plot the loss\n",
    "plt.plot(r.history['loss'], label='train loss')\n",
    "plt.plot(r.history['val_loss'], label='val loss')\n",
    "plt.legend()\n",
    "plt.show()\n",
    "plt.savefig('LossVal_loss')\n",
    "\n",
    "# plot the accuracy\n",
    "plt.plot(r.history['accuracy'], label='train acc')\n",
    "plt.plot(r.history['val_accuracy'], label='val acc')\n",
    "plt.legend()\n",
    "plt.show()\n",
    "plt.savefig('AccVal_acc')"
   ]
  },
  {
   "cell_type": "code",
   "execution_count": 23,
   "metadata": {},
   "outputs": [],
   "source": [
    "# pip install scikit-learn"
   ]
  },
  {
   "cell_type": "code",
   "execution_count": 25,
   "metadata": {},
   "outputs": [
    {
     "name": "stdout",
     "output_type": "stream",
     "text": [
      "173/173 [==============================] - 7s 39ms/step\n",
      "Confusion Matrix:\n",
      "[[1371 1385]\n",
      " [1350 1406]]\n",
      "\n",
      "Classification Report:\n",
      "              precision    recall  f1-score   support\n",
      "\n",
      " Parasitized       0.50      0.50      0.50      2756\n",
      "  Uninfected       0.50      0.51      0.51      2756\n",
      "\n",
      "    accuracy                           0.50      5512\n",
      "   macro avg       0.50      0.50      0.50      5512\n",
      "weighted avg       0.50      0.50      0.50      5512\n",
      "\n"
     ]
    }
   ],
   "source": [
    "from sklearn.metrics import confusion_matrix, classification_report\n",
    "\n",
    "import numpy as np\n",
    "y_pred = model.predict(test_set)\n",
    "predicted_classes = np.argmax(y_pred, axis=1)\n",
    "\n",
    "# Get true labels from the test set generator\n",
    "true_classes = test_set.classes\n",
    "\n",
    "# Get class labels\n",
    "class_labels = list(test_set.class_indices.keys())\n",
    "\n",
    "# Create confusion matrix\n",
    "conf_matrix = confusion_matrix(true_classes, predicted_classes)\n",
    "\n",
    "# Display confusion matrix\n",
    "print(\"Confusion Matrix:\")\n",
    "print(conf_matrix)\n",
    "\n",
    "# Get classification report for more detailed evaluation\n",
    "print(\"\\nClassification Report:\")\n",
    "print(classification_report(true_classes, predicted_classes, target_names=class_labels))\n"
   ]
  },
  {
   "cell_type": "code",
   "execution_count": 33,
   "metadata": {},
   "outputs": [],
   "source": [
    "# pip install seaborn"
   ]
  },
  {
   "cell_type": "code",
   "execution_count": 36,
   "metadata": {},
   "outputs": [
    {
     "data": {
      "image/png": "[encoded data removed]",
      "text/plain": [
       "<Figure size 600x400 with 2 Axes>"
      ]
     },
     "metadata": {},
     "output_type": "display_data"
    }
   ],
   "source": [
    "import seaborn as sns\n",
    "plt.figure(figsize=(6, 4))\n",
    "sns.heatmap(conf_matrix, annot=True, fmt='d', cmap='Blues', xticklabels=class_labels, yticklabels=class_labels)\n",
    "plt.xlabel('Predicted Labels')\n",
    "plt.ylabel('True Labels')\n",
    "plt.title('Confusion Matrix')\n",
    "plt.show()"
   ]
  },
  {
   "cell_type": "code",
   "execution_count": 37,
   "metadata": {},
   "outputs": [
    {
     "data": {
      "image/png": "[encoded data removed]",
      "text/plain": [
       "<Figure size 600x400 with 1 Axes>"
      ]
     },
     "metadata": {},
     "output_type": "display_data"
    }
   ],
   "source": [
    "report = classification_report(true_classes, predicted_classes, target_names=class_labels, output_dict=True)\n",
    "\n",
    "# Extract metrics for plotting\n",
    "metrics = ['precision', 'recall', 'f1-score']\n",
    "classes = list(report.keys())[:-3]  # Exclude 'micro avg', 'macro avg', 'weighted avg'\n",
    "\n",
    "# Plot metrics for each class\n",
    "plt.figure(figsize=(6, 4))\n",
    "for metric in metrics:\n",
    "    values = [report[class_label][metric] for class_label in classes]\n",
    "    plt.bar(classes, values, label=metric)\n",
    "\n",
    "plt.xlabel('Class Labels')\n",
    "plt.ylabel('Score')\n",
    "plt.title('Classification Metrics')\n",
    "plt.legend()\n",
    "plt.show()"
   ]
  },
  {
   "cell_type": "code",
   "execution_count": null,
   "metadata": {},
   "outputs": [],
   "source": [
    "# save it as a h5 file\n",
    "\n",
    "\n",
    "from tensorflow.keras.models import load_model\n",
    "\n",
    "model.save('model_vgg19_.h5')"
   ]
  },
  {
   "cell_type": "code",
   "execution_count": null,
   "metadata": {},
   "outputs": [],
   "source": []
  },
  {
   "cell_type": "code",
   "execution_count": null,
   "metadata": {},
   "outputs": [],
   "source": [
    "\n",
    "y_pred = model.predict(test_set)\n"
   ]
  },
  {
   "cell_type": "code",
   "execution_count": null,
   "metadata": {},
   "outputs": [],
   "source": [
    "y_pred"
   ]
  },
  {
   "cell_type": "code",
   "execution_count": null,
   "metadata": {},
   "outputs": [],
   "source": [
    "y_pred = np.argmax(y_pred, axis=1)"
   ]
  },
  {
   "cell_type": "code",
   "execution_count": null,
   "metadata": {},
   "outputs": [],
   "source": [
    "y_pred"
   ]
  },
  {
   "cell_type": "code",
   "execution_count": null,
   "metadata": {},
   "outputs": [],
   "source": []
  },
  {
   "cell_type": "code",
   "execution_count": null,
   "metadata": {},
   "outputs": [],
   "source": [
    "from tensorflow.keras.models import load_model\n",
    "from tensorflow.keras.preprocessing import image"
   ]
  },
  {
   "cell_type": "code",
   "execution_count": null,
   "metadata": {},
   "outputs": [],
   "source": [
    "model=load_model('model_vgg19_.h5')"
   ]
  },
  {
   "cell_type": "code",
   "execution_count": null,
   "metadata": {},
   "outputs": [],
   "source": [
    "# img=image.load_img('cell_image/test/Parasitized/C99P60ThinF_IMG_20150918_142334_cell_39.png',target_size=(224,224))\n",
    "\n"
   ]
  },
  {
   "cell_type": "code",
   "execution_count": null,
   "metadata": {},
   "outputs": [],
   "source": [
    "img=image.load_img('cell_image/test/Uninfected/C99P60ThinF_IMG_20150918_141520_cell_38.png',target_size=(224,224))"
   ]
  },
  {
   "cell_type": "code",
   "execution_count": null,
   "metadata": {},
   "outputs": [],
   "source": [
    "display(img)"
   ]
  },
  {
   "cell_type": "code",
   "execution_count": null,
   "metadata": {},
   "outputs": [],
   "source": [
    "x=image.img_to_array(img)\n",
    "x"
   ]
  },
  {
   "cell_type": "code",
   "execution_count": null,
   "metadata": {},
   "outputs": [],
   "source": [
    "x.shape"
   ]
  },
  {
   "cell_type": "code",
   "execution_count": null,
   "metadata": {},
   "outputs": [],
   "source": [
    "x=x/255"
   ]
  },
  {
   "cell_type": "code",
   "execution_count": null,
   "metadata": {},
   "outputs": [],
   "source": [
    "from keras.applications.vgg19 import preprocess_input\n",
    "# import numpy as np"
   ]
  },
  {
   "cell_type": "code",
   "execution_count": null,
   "metadata": {},
   "outputs": [],
   "source": [
    "x=np.expand_dims(x,axis=0)\n",
    "img_data=preprocess_input(x)\n",
    "img_data.shape"
   ]
  },
  {
   "cell_type": "code",
   "execution_count": null,
   "metadata": {},
   "outputs": [],
   "source": [
    "# img_data = img_data.squeeze(axis=0) \n",
    "# img_data.shape\n",
    "# # Remove the extra dimension\n",
    "# # model.predict(img_data)"
   ]
  },
  {
   "cell_type": "code",
   "execution_count": null,
   "metadata": {},
   "outputs": [],
   "source": [
    "model.predict(img_data)"
   ]
  },
  {
   "cell_type": "code",
   "execution_count": null,
   "metadata": {},
   "outputs": [],
   "source": [
    "a=np.argmax(model.predict(img_data), axis=1)"
   ]
  },
  {
   "cell_type": "code",
   "execution_count": null,
   "metadata": {},
   "outputs": [],
   "source": [
    "print(a)"
   ]
  },
  {
   "cell_type": "code",
   "execution_count": null,
   "metadata": {},
   "outputs": [],
   "source": [
    "if(a==1):\n",
    "    print(\"Uninfected\")\n",
    "else:\n",
    "    print(\"Infected\")"
   ]
  },
  {
   "cell_type": "code",
   "execution_count": null,
   "metadata": {},
   "outputs": [],
   "source": []
  },
  {
   "cell_type": "code",
   "execution_count": null,
   "metadata": {},
   "outputs": [],
   "source": []
  },
  {
   "cell_type": "code",
   "execution_count": null,
   "metadata": {},
   "outputs": [],
   "source": []
  }
 ],
 "metadata": {
  "kernelspec": {
   "display_name": "Python 3 (ipykernel)",
   "language": "python",
   "name": "python3"
  },
  "language_info": {
   "codemirror_mode": {
    "name": "ipython",
    "version": 3
   },
   "file_extension": ".py",
   "mimetype": "text/x-python",
   "name": "python",
   "nbconvert_exporter": "python",
   "pygments_lexer": "ipython3",
   "version": "3.10.14"
  }
 },
 "nbformat": 4,
 "nbformat_minor": 4
}
